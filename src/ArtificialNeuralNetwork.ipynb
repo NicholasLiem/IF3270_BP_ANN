{
 "cells": [
  {
   "cell_type": "markdown",
   "metadata": {},
   "source": [
    "# Artificial Neural Network Model\n",
    "\n",
    "### IF3170 - Machine Learning\n",
    "\n",
    "Developed by: \n",
    "1. Juan Christopher Santoso (13521116)\n",
    "2. Nicholas Liem (13521135)\n",
    "3. Nathania Calista Djunaedi (13521139)\n",
    "4. Antonio Natthan Krishna (13521162)"
   ]
  },
  {
   "cell_type": "markdown",
   "metadata": {},
   "source": [
    "#### **Import Library**"
   ]
  },
  {
   "cell_type": "code",
   "execution_count": 140,
   "metadata": {},
   "outputs": [],
   "source": [
    "import numpy as np\n",
    "import pandas as pd\n",
    "import json\n",
    "import copy\n",
    "import pickle"
   ]
  },
  {
   "cell_type": "markdown",
   "metadata": {},
   "source": [
    "#### **Neural Network Properties**"
   ]
  },
  {
   "cell_type": "markdown",
   "metadata": {},
   "source": [
    "#### 1. Activation Function"
   ]
  },
  {
   "cell_type": "code",
   "execution_count": 141,
   "metadata": {},
   "outputs": [],
   "source": [
    "class ActivationFunction:\n",
    "    def __init__(self, types='Sigmoid'):\n",
    "        self.func = self.sigmoid\n",
    "        self.dfunc = self.dsigmoid\n",
    "        self.dfuncerr = self.dsum_square\n",
    "\n",
    "        match types:\n",
    "            case 'sigmoid':\n",
    "                self.func = self.sigmoid\n",
    "                self.dfunc = self.dsigmoid\n",
    "                self.dfuncerr = self.dsum_square\n",
    "            case 'linear':\n",
    "                self.func = self.linear\n",
    "                self.dfunc = self.dlinear\n",
    "                self.dfuncerr = self.dsum_square\n",
    "            case 'softmax':\n",
    "                self.func = self.softmax\n",
    "                self.dfuncerr = self.derr_softmax\n",
    "            case 'relu':\n",
    "                self.func = self.relu\n",
    "                self.dfunc = self.drelu\n",
    "                self.dfuncerr = self.dsum_square\n",
    "\n",
    "    def sigmoid(self, x):\n",
    "        return 1 / (1 + np.exp(-x))\n",
    "\n",
    "    def dsigmoid(self, x):\n",
    "        sig = self.sigmoid(x)\n",
    "        return sig * (1-sig)\n",
    "    \n",
    "    def linear(self, x):\n",
    "        return x\n",
    "    \n",
    "    def dlinear(self, x):\n",
    "        return 1\n",
    "    \n",
    "    def softmax(self, x):\n",
    "        expX = np.exp(x - np.max(x, axis=1, keepdims=True))\n",
    "        return expX / np.sum(expX, axis=1, keepdims=True)\n",
    "    \n",
    "    def relu(self, x):\n",
    "        return np.maximum(0, x)\n",
    "    \n",
    "    def drelu(self, x):\n",
    "        return np.where(x > 0, 1, 0)\n",
    "    \n",
    "    def dsum_square(self, output, target):\n",
    "        return target - output\n",
    "    \n",
    "    def derr_softmax(self, output, target):\n",
    "        if (target != 1):\n",
    "            return output\n",
    "        else:\n",
    "            return output - 1"
   ]
  },
  {
   "cell_type": "markdown",
   "metadata": {},
   "source": [
    "#### 2. Loss Function"
   ]
  },
  {
   "cell_type": "code",
   "execution_count": 142,
   "metadata": {},
   "outputs": [],
   "source": [
    "class LossFunction:\n",
    "    @staticmethod\n",
    "    def calculate(output, target, layers):\n",
    "        activation_mode = layers[-1]['activation_function']\n",
    "        if (activation_mode == \"softmax\"):\n",
    "            return LossFunction.loss_softmax(output, target)\n",
    "        else:\n",
    "            return LossFunction.loss_rsl(output, target)\n",
    "\n",
    "    @staticmethod\n",
    "    def loss_rsl(output, target):\n",
    "        err = 0\n",
    "        for i in range (len(output)):\n",
    "            err += (target[i] - output[i])**2\n",
    "        return err\n",
    "    \n",
    "    @staticmethod\n",
    "    def loss_softmax(output, target):\n",
    "        idx = np.where(target == 1)[0]\n",
    "        return -1 * np.log10(output[idx])"
   ]
  },
  {
   "cell_type": "markdown",
   "metadata": {},
   "source": [
    "#### 3. Forward Propagation (Using Fast Forward Neural Network)"
   ]
  },
  {
   "cell_type": "code",
   "execution_count": 143,
   "metadata": {},
   "outputs": [],
   "source": [
    "class ForwardPropagation:\n",
    "    @staticmethod\n",
    "    def process(input_data, layers, weights):\n",
    "        activations = input_data\n",
    "        neuron_net = []\n",
    "        neuron_out = []\n",
    "\n",
    "        for i in range(len(layers)):\n",
    "            activations_with_bias = np.insert(activations, 0, 1, axis=1)\n",
    "            net_input = np.dot(activations_with_bias, weights[i])\n",
    "            activation_mode = layers[i]['activation_function']\n",
    "            activationFunc = ActivationFunction(activation_mode)\n",
    "            activations = activationFunc.func(net_input)\n",
    "            neuron_net.append(net_input)\n",
    "            neuron_out.append(activations)\n",
    "\n",
    "        return activations, neuron_net, neuron_out"
   ]
  },
  {
   "cell_type": "markdown",
   "metadata": {},
   "source": [
    "#### 4. Backward Propagation"
   ]
  },
  {
   "cell_type": "code",
   "execution_count": 144,
   "metadata": {},
   "outputs": [],
   "source": [
    "class BackwardPropagation:\n",
    "    @staticmethod\n",
    "    def process(weights, output, target, neuron_net, neuron_out, layers, learning_rate, input_data):\n",
    "        delta = []\n",
    "\n",
    "        # Delta Output Layer\n",
    "        activation_mode = layers[-1]['activation_function']\n",
    "        delta_layer = []\n",
    "        activationFunc = ActivationFunction(activation_mode)\n",
    "        if (activation_mode == 'softmax'):\n",
    "            for i in range (len(output)): \n",
    "                delta_layer.append(activationFunc.dfuncerr(output[i], target[i]))\n",
    "        else:\n",
    "            for i in range (len(output)): \n",
    "                delta_layer.append(activationFunc.dfuncerr(output[i], target[i]) * activationFunc.dfunc(output[i]))\n",
    "        delta.append(delta_layer)\n",
    "\n",
    "        # Delta Hidden Layer\n",
    "        for i in range(len(layers) - 2, -1, -1):\n",
    "            activation_mode = layers[i]['activation_function']\n",
    "            activationFunc = ActivationFunction(activation_mode)\n",
    "            prev_delta = delta_layer if i == len(layers) - 2 else delta_layer[1:]\n",
    "            delta_layer = []\n",
    "            layer_weight = weights[i+1]\n",
    "            layer_output = neuron_out[i][0]\n",
    "\n",
    "            for j in range (len(layer_weight)): \n",
    "                neuron_weight = layer_weight[j]\n",
    "                sigma = np.dot(neuron_weight, prev_delta)\n",
    "                delta_layer.append(sigma * activationFunc.dfunc(1 if j == 0 else layer_output[j-1]))\n",
    "            delta = [delta_layer[1:]] + delta\n",
    "\n",
    "        # print(delta)\n",
    "\n",
    "        # Update Weight\n",
    "        for i in range (len(layers)):\n",
    "            if (i == 0):\n",
    "                layer_input = input_data\n",
    "            else :\n",
    "                layer_input = neuron_out[i-1][0]\n",
    "\n",
    "            layer_input = np.insert(layer_input, 0, 1)\n",
    "            for j in range (len(weights[i])):\n",
    "                for k in range (len(weights[i][j])):\n",
    "                    weights[i][j][k] += learning_rate * delta[i][k] * layer_input[j]\n",
    "        \n",
    "        return weights"
   ]
  },
  {
   "cell_type": "markdown",
   "metadata": {},
   "source": [
    "#### **Artificial Neural Network**"
   ]
  },
  {
   "cell_type": "code",
   "execution_count": 145,
   "metadata": {},
   "outputs": [],
   "source": [
    "class ArtificialNeuralNetwork:\n",
    "    def __init__(self, architecture):\n",
    "        self.layers = architecture.layers\n",
    "        self.learning_rate = architecture.learning_rate\n",
    "        self.error_threshold = architecture.error_threshold\n",
    "        self.max_iter = architecture.max_iteration\n",
    "        self.batch_size = architecture.batch_size\n",
    "        self.input_data = architecture.input\n",
    "        self.target = architecture.target\n",
    "        self.weights = architecture.initial_weights\n",
    "\n",
    "    def train(self):\n",
    "        temp_weight = copy.deepcopy(self.weights)\n",
    "\n",
    "        for i in range (self.max_iter):\n",
    "            error_total = 0\n",
    "            minibatch = self.batch_size\n",
    "            for i in range (len(self.input_data)):\n",
    "                if (minibatch == 0):\n",
    "                    self.weights = copy.deepcopy(temp_weight)\n",
    "                    minibatch = self.batch_size\n",
    "                output, neuron_net, neuron_out = ForwardPropagation.process([self.input_data[i]], self.layers, self.weights)\n",
    "                error_total += LossFunction.calculate(output[0], self.target[i], self.layers)\n",
    "                temp_weight = BackwardPropagation.process(temp_weight, output[0], self.target[i], neuron_net, neuron_out, self.layers, self.learning_rate, self.input_data[i])\n",
    "                minibatch = minibatch - 1\n",
    "\n",
    "            if (error_total < self.error_threshold):\n",
    "                break\n",
    "        self.weights = copy.deepcopy(temp_weight)\n",
    "        \n",
    "        print(self.weights)\n",
    "        print(error_total)\n",
    "\n",
    "    def predict(self, test):\n",
    "        res = []\n",
    "        for i in range (len(self.input_data)):\n",
    "            output, _, _ = ForwardPropagation.process([test.values[i]], self.layers, self.weights)\n",
    "            res.append(output)\n",
    "\n",
    "        self.test = []\n",
    "        for item in res:\n",
    "            max_index = np.argmax(item)\n",
    "            if (max_index == 0):\n",
    "                self.test.append(\"Iris-setosa\")\n",
    "            elif (max_index == 1):\n",
    "                self.test.append(\"Iris-versicolor\")\n",
    "            else:\n",
    "                self.test.append(\"Iris-virginica\")\n",
    "        print(self.test)\n",
    "\n",
    "    def save_weights(self, file_path):\n",
    "        with open(file_path, 'wb') as file:\n",
    "            pickle.dump(self.weights, file)\n",
    "\n",
    "    def load_weights(self, file_path):\n",
    "        with open(file_path, 'rb') as file:\n",
    "            self.weights = pickle.load(file)"
   ]
  },
  {
   "cell_type": "markdown",
   "metadata": {},
   "source": [
    "#### **Preprocessing Data**"
   ]
  },
  {
   "cell_type": "code",
   "execution_count": 146,
   "metadata": {},
   "outputs": [],
   "source": [
    "class JsonModelParser:\n",
    "    def __init__(self, filepath):\n",
    "        self.filepath = filepath\n",
    "        self.data = self.load_json_file()\n",
    "        self.parse_model_data()\n",
    "\n",
    "    def load_json_file(self):\n",
    "        try:\n",
    "            with open(self.filepath, 'r', encoding='utf-8') as file:\n",
    "                return json.load(file)\n",
    "        except FileNotFoundError:\n",
    "            print(f\"The file {self.filepath} was not found\")\n",
    "            return None\n",
    "        except json.JSONDecodeError:\n",
    "            print(f\"Error decoding JSON from the file {self.filepath}\")\n",
    "            return None\n",
    "\n",
    "    def parse_model_data(self):\n",
    "        if self.data:\n",
    "            self.case = self.data.get('case', {})\n",
    "            self.model = self.case.get('model', {})\n",
    "            self.input_size = self.model.get('input_size')\n",
    "\n",
    "            raw_layers = self.model.get('layers', [])   \n",
    "            self.layers = [{'number_of_neurons': layer.get('number_of_neurons'),\n",
    "                        'activation_function': layer.get('activation_function')}\n",
    "                       for layer in raw_layers]\n",
    "            \n",
    "            self.input = self.case.get('input', [])\n",
    "            self.initial_weights = self.case.get('initial_weights', [])\n",
    "            self.target = self.case.get('target', [])\n",
    "            self.parameters = self.case.get('learning_parameters', {})\n",
    "\n",
    "            self.learning_rate = self.parameters.get('learning_rate')\n",
    "            self.batch_size = self.parameters.get('batch_size')\n",
    "            self.max_iteration = self.parameters.get('max_iteration')\n",
    "            self.error_threshold = self.parameters.get('error_threshold')\n",
    "\n",
    "    @staticmethod\n",
    "    def save_json_file(data, filepath):\n",
    "        try:\n",
    "            with open(filepath, 'w', encoding='utf-8') as file:\n",
    "                json.dump(data, file, ensure_ascii=False, indent=4)\n",
    "        except IOError:\n",
    "            print(f\"Could not save data to {filepath}\")"
   ]
  },
  {
   "cell_type": "code",
   "execution_count": 147,
   "metadata": {},
   "outputs": [
    {
     "name": "stdout",
     "output_type": "stream",
     "text": [
      "8\n",
      "[{'number_of_neurons': 3, 'activation_function': 'softmax'}]\n",
      "[[-2.4, -2.78, -0.6, 0.37, 2.46, -0.92, 2.76, 2.62], [-1.79, 1.65, -0.77, -1.03, 0.1, 2.12, -2.36, 1.25], [1.65, 2.34, 0.27, 2.34, 0.52, 1.37, 1.77, 0.62]]\n",
      "[[[0.1, 0.9, -0.1], [-0.2, 0.8, 0.2], [0.3, -0.7, 0.3], [0.4, 0.6, -0.4], [0.5, 0.5, 0.5], [-0.6, 0.4, 0.6], [-0.7, -0.3, 0.7], [0.8, 0.2, -0.8], [0.9, -0.1, 0.0]]]\n",
      "[[0, 1, 0], [1, 0, 0], [0, 0, 1]]\n",
      "0.01\n",
      "1\n",
      "10\n",
      "0.05\n"
     ]
    }
   ],
   "source": [
    "architecture = JsonModelParser(\"../test/softmax.json\")\n",
    "print(architecture.input_size)\n",
    "print(architecture.layers)\n",
    "print(architecture.input)\n",
    "print(architecture.initial_weights)\n",
    "print(architecture.target)\n",
    "print(architecture.learning_rate)\n",
    "print(architecture.batch_size)\n",
    "print(architecture.max_iteration)\n",
    "print(architecture.error_threshold)"
   ]
  },
  {
   "cell_type": "markdown",
   "metadata": {},
   "source": [
    "#### **Processing Data**"
   ]
  },
  {
   "cell_type": "code",
   "execution_count": 148,
   "metadata": {},
   "outputs": [
    {
     "name": "stdout",
     "output_type": "stream",
     "text": [
      "[[[0.14906078171528958, 0.8401581271446935, -0.08921890885998307], [-0.157098294624564, 1.0831071887803398, -0.1260088941557756], [0.0012324225690589566, -0.3571444563358849, 0.25591203376682586], [0.4351425645358326, 0.6658560637182119, -0.5009986282540444], [0.7657737701836024, 0.5456350613620091, 0.18859116845438817], [-0.34971698305178306, 0.18588475273052707, 0.563832230321256], [-0.9235035227378819, -0.1659600170019364, 0.7894635397398184], [1.3926633240289432, 0.0005271947448827743, -1.193190518773826], [1.055962408115659, -0.32571371099502205, 0.06975130287936321]]]\n",
      "[]\n"
     ]
    },
    {
     "name": "stderr",
     "output_type": "stream",
     "text": [
      "/var/folders/8r/7kxnwm3j4ng626dsl_nww11r0000gn/T/ipykernel_45101/466744568.py:19: DeprecationWarning: Calling nonzero on 0d arrays is deprecated, as it behaves surprisingly. Use `atleast_1d(cond).nonzero()` if the old behavior was intended. If the context of this warning is of the form `arr[nonzero(cond)]`, just use `arr[cond]`.\n",
      "  idx = np.where(target == 1)[0]\n",
      "/var/folders/8r/7kxnwm3j4ng626dsl_nww11r0000gn/T/ipykernel_45101/292284842.py:27: DeprecationWarning: The truth value of an empty array is ambiguous. Returning False, but in future this will result in an error. Use `array.size > 0` to check that an array is not empty.\n",
      "  if (error_total < self.error_threshold):\n"
     ]
    }
   ],
   "source": [
    "model = ArtificialNeuralNetwork(architecture)\n",
    "model.train()"
   ]
  },
  {
   "cell_type": "markdown",
   "metadata": {},
   "source": []
  },
  {
   "cell_type": "code",
   "execution_count": 149,
   "metadata": {},
   "outputs": [],
   "source": [
    "# print(model.weights)\n",
    "# model.predict(input)\n"
   ]
  },
  {
   "cell_type": "markdown",
   "metadata": {},
   "source": [
    "Metrics"
   ]
  },
  {
   "cell_type": "markdown",
   "metadata": {},
   "source": []
  }
 ],
 "metadata": {
  "kernelspec": {
   "display_name": "venv",
   "language": "python",
   "name": "python3"
  },
  "language_info": {
   "codemirror_mode": {
    "name": "ipython",
    "version": 3
   },
   "file_extension": ".py",
   "mimetype": "text/x-python",
   "name": "python",
   "nbconvert_exporter": "python",
   "pygments_lexer": "ipython3",
   "version": "3.12.2"
  }
 },
 "nbformat": 4,
 "nbformat_minor": 2
}
