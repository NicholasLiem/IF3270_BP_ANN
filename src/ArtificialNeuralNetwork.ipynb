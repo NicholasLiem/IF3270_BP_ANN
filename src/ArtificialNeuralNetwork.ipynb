{
 "cells": [
  {
   "cell_type": "markdown",
   "metadata": {},
   "source": [
    "# Artificial Neural Network Model\n",
    "\n",
    "### IF3170 - Machine Learning\n",
    "\n",
    "Developed by: \n",
    "1. Juan Christopher Santoso (13521116)\n",
    "2. Nicholas Liem (13521135)\n",
    "3. Nathania Calista Djunaedi (13521139)\n",
    "4. Antonio Natthan Krishna (13521162)"
   ]
  },
  {
   "cell_type": "markdown",
   "metadata": {},
   "source": [
    "#### **Import Library**"
   ]
  },
  {
   "cell_type": "code",
   "execution_count": 36,
   "metadata": {},
   "outputs": [],
   "source": [
    "import numpy as np\n",
    "import pandas as pd\n",
    "import json"
   ]
  },
  {
   "cell_type": "markdown",
   "metadata": {},
   "source": [
    "#### **Neural Network Properties**"
   ]
  },
  {
   "cell_type": "markdown",
   "metadata": {},
   "source": [
    "#### 1. Activation Function"
   ]
  },
  {
   "cell_type": "code",
   "execution_count": 37,
   "metadata": {},
   "outputs": [],
   "source": [
    "class ActivationFunction:\n",
    "    def __init__(self, types='Sigmoid'):\n",
    "        self.func = self.sigmoid\n",
    "        self.dfunc = self.dsigmoid\n",
    "\n",
    "        match types:\n",
    "            case 'Sigmoid':\n",
    "                self.func = self.sigmoid\n",
    "                self.dfunc = self.dsigmoid\n",
    "            case 'Linear':\n",
    "                self.func = self.linear\n",
    "                self.dfunc = self.dlinear\n",
    "            case 'Softmax':\n",
    "                self.func = self.softmax\n",
    "                self.dfunc = self.dsoftmax\n",
    "            case 'Relu':\n",
    "                self.func = self.relu\n",
    "                self.dfunc = self.drelu\n",
    "\n",
    "    def sigmoid(self, x):\n",
    "        return 1 / (1 + np.exp(-x))\n",
    "\n",
    "    def dsigmoid(self, x):\n",
    "        sig = self.sigmoid(x)\n",
    "        return sig * (1-sig)\n",
    "    \n",
    "    def linear(self, x):\n",
    "        return x\n",
    "    \n",
    "    def dlinear(self, x):\n",
    "        return 1\n",
    "    \n",
    "    def softmax(self, x):\n",
    "        expX = np.exp(x - np.max(x, axis=1, keepdims=True))\n",
    "        return expX / np.sum(expX, axis=1, keepdims=True)\n",
    "    \n",
    "    def dsoftmax(self, x):\n",
    "        raise Exception(\"TODO: Check this\")\n",
    "        s = self.softmax(x)\n",
    "        dS = np.empty((x.shape[0], x.shape[1], x.shape[1]))\n",
    "        for n in range(len(s)):\n",
    "            diagS = np.diag(s[n])\n",
    "            dS[n] = diagS - np.outer(s[n], s[n])\n",
    "        return dS\n",
    "    \n",
    "    def relu(self, x):\n",
    "        return np.maximum(0, x)\n",
    "    \n",
    "    def drelu(self, x):\n",
    "        return np.where(x > 0, 1, 0)"
   ]
  },
  {
   "cell_type": "markdown",
   "metadata": {},
   "source": [
    "#### 2. Loss Function"
   ]
  },
  {
   "cell_type": "code",
   "execution_count": 38,
   "metadata": {},
   "outputs": [],
   "source": [
    "class LossFunction:\n",
    "    @staticmethod\n",
    "    def loss_rsl(self, x):\n",
    "        raise Exception(\"TODO: Implement this\")\n",
    "    \n",
    "    @staticmethod\n",
    "    def loss_softmax(self, x):\n",
    "        raise -1 * np.log10(x)"
   ]
  },
  {
   "cell_type": "markdown",
   "metadata": {},
   "source": [
    "#### 3. Forward Propagation (Using Fast Forward Neural Network)"
   ]
  },
  {
   "cell_type": "code",
   "execution_count": 39,
   "metadata": {},
   "outputs": [],
   "source": [
    "class ForwardPropagation:\n",
    "    def __init__(self, layers, weights, input_data):\n",
    "        self.input_data = np.array(input_data) if not isinstance(input_data, np.ndarray) else input_data\n",
    "        self.layers = layers\n",
    "        self.weights = [np.array(w) for w in weights]\n",
    "\n",
    "    def prepend_bias(self, activations):\n",
    "        return np.insert(activations, 0, 1, axis=1)\n",
    "\n",
    "    \n",
    "    def predict(self):\n",
    "        activations = self.input_data\n",
    "        activationFunc = ActivationFunction()\n",
    "\n",
    "        for i in range(len(self.layers)):\n",
    "            activations_with_bias = self.prepend_bias(activations)\n",
    "            net_input = np.dot(activations_with_bias, self.weights[i])\n",
    "\n",
    "            activation_function_str = self.layers[i]['activation_function']\n",
    "            match activation_function_str:\n",
    "                case \"relu\":\n",
    "                    activations = activationFunc.relu(net_input)\n",
    "                case \"softmax\":\n",
    "                    activations = activationFunc.softmax(net_input)\n",
    "                case \"sigmoid\":\n",
    "                    activations = activationFunc.sigmoid(net_input)\n",
    "                case \"linear\":\n",
    "                    activations = activationFunc.linear(net_input)\n",
    "\n",
    "        return activations"
   ]
  },
  {
   "cell_type": "markdown",
   "metadata": {},
   "source": [
    "#### 4. Backward Propagation"
   ]
  },
  {
   "cell_type": "code",
   "execution_count": 40,
   "metadata": {},
   "outputs": [],
   "source": [
    "class BackwardPropagation:\n",
    "    def __init__(self, layers, weights, input_data):\n",
    "        self.input_data = np.array(input_data) if not isinstance(input_data, np.ndarray) else input_data\n",
    "        self.layers = layers\n",
    "        self.weights = [np.array(w) for w in weights]\n",
    "\n",
    "    def prepend_bias(self, activations):\n",
    "        return np.insert(activations, 0, 1, axis=1)\n",
    "\n",
    "    \n",
    "    def predict(self):\n",
    "        activations = self.input_data\n",
    "        activationFunc = ActivationFunction()\n",
    "\n",
    "        for i in range(len(self.layers)):\n",
    "            activations_with_bias = self.prepend_bias(activations)\n",
    "            net_input = np.dot(activations_with_bias, self.weights[i])\n",
    "\n",
    "            activation_function_str = self.layers[i]['activation_function']\n",
    "            match activation_function_str:\n",
    "                case \"relu\":\n",
    "                    activations = activationFunc.relu(net_input)\n",
    "                case \"softmax\":\n",
    "                    activations = activationFunc.softmax(net_input)\n",
    "                case \"sigmoid\":\n",
    "                    activations = activationFunc.sigmoid(net_input)\n",
    "                case \"linear\":\n",
    "                    activations = activationFunc.linear(net_input)\n",
    "\n",
    "        return activations"
   ]
  },
  {
   "cell_type": "markdown",
   "metadata": {},
   "source": [
    "#### **Artificial Neural Network**"
   ]
  },
  {
   "cell_type": "code",
   "execution_count": 41,
   "metadata": {},
   "outputs": [],
   "source": [
    "class ArtificialNeuralNetwork:\n",
    "    def __init__(self, layers, weights, input_data, target):\n",
    "        self.input_data = np.array(input_data) if not isinstance(input_data, np.ndarray) else input_data\n",
    "        self.target = np.array(target) if not isinstance(target, np.ndarray) else target\n",
    "\n",
    "        # self.layers = layers\n",
    "        # self.weights = [np.array(w) for w in weights]\n",
    "\n",
    "\n",
    "    def predict(self):\n",
    "        activations = self.input_data\n",
    "        activationFunc = ActivationFunction()\n",
    "\n",
    "        for i in range(len(self.layers)):\n",
    "            activations_with_bias = self.prepend_bias(activations)\n",
    "            net_input = np.dot(activations_with_bias, self.weights[i])\n",
    "\n",
    "            activation_function_str = self.layers[i]['activation_function']\n",
    "            match activation_function_str:\n",
    "                case \"relu\":\n",
    "                    activations = activationFunc.relu(net_input)\n",
    "                case \"softmax\":\n",
    "                    activations = activationFunc.softmax(net_input)\n",
    "                case \"sigmoid\":\n",
    "                    activations = activationFunc.sigmoid(net_input)\n",
    "                case \"linear\":\n",
    "                    activations = activationFunc.linear(net_input)\n",
    "\n",
    "        return activations"
   ]
  },
  {
   "cell_type": "markdown",
   "metadata": {},
   "source": [
    "#### **Preprocessing Data**"
   ]
  },
  {
   "cell_type": "markdown",
   "metadata": {},
   "source": [
    "#### 1. Load Data and Architecture"
   ]
  },
  {
   "cell_type": "code",
   "execution_count": 42,
   "metadata": {},
   "outputs": [],
   "source": [
    "class JsonModelParser:\n",
    "    def __init__(self, filepath):\n",
    "        self.filepath = filepath\n",
    "        self.data = self.load_json_file()\n",
    "        self.parse_model_data()\n",
    "\n",
    "    def load_json_file(self):\n",
    "        try:\n",
    "            with open(self.filepath, 'r', encoding='utf-8') as file:\n",
    "                return json.load(file)\n",
    "        except FileNotFoundError:\n",
    "            print(f\"The file {self.filepath} was not found\")\n",
    "            return None\n",
    "        except json.JSONDecodeError:\n",
    "            print(f\"Error decoding JSON from the file {self.filepath}\")\n",
    "            return None\n",
    "\n",
    "    def parse_model_data(self):\n",
    "        if self.data:\n",
    "            self.model = self.data.get('model', {})\n",
    "            self.input_size = self.model.get('input_size')\n",
    "            raw_layers = self.model.get('layers', [])   \n",
    "            self.layers = [{'number_of_neurons': layer.get('number_of_neurons'),\n",
    "                        'activation_function': layer.get('activation_function')}\n",
    "                       for layer in raw_layers]\n",
    "            self.learning_rate = self.model.get('learning_rate')\n",
    "            self.error_threshold = self.model.get('error_threshold')\n",
    "            self.max_iter = self.model.get('max_iter')\n",
    "            self.batch_size = self.model.get('batch_size')\n",
    "\n",
    "    @staticmethod\n",
    "    def save_json_file(data, filepath):\n",
    "        try:\n",
    "            with open(filepath, 'w', encoding='utf-8') as file:\n",
    "                json.dump(data, file, ensure_ascii=False, indent=4)\n",
    "        except IOError:\n",
    "            print(f\"Could not save data to {filepath}\")"
   ]
  },
  {
   "cell_type": "code",
   "execution_count": 43,
   "metadata": {},
   "outputs": [],
   "source": [
    "df = pd.read_csv('iris.csv')\n",
    "input = df.drop(columns=['Id', 'Species'])\n",
    "target = df['Species']\n",
    "architecture = JsonModelParser(\"arch_example.json\")"
   ]
  }
 ],
 "metadata": {
  "kernelspec": {
   "display_name": "venv",
   "language": "python",
   "name": "python3"
  },
  "language_info": {
   "codemirror_mode": {
    "name": "ipython",
    "version": 3
   },
   "file_extension": ".py",
   "mimetype": "text/x-python",
   "name": "python",
   "nbconvert_exporter": "python",
   "pygments_lexer": "ipython3",
   "version": "3.12.2"
  }
 },
 "nbformat": 4,
 "nbformat_minor": 2
}
