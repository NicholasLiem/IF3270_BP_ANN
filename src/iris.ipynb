{
 "cells": [
  {
   "cell_type": "code",
   "execution_count": 1,
   "metadata": {},
   "outputs": [
    {
     "name": "stdout",
     "output_type": "stream",
     "text": [
      "Requirement already satisfied: pandas in c:\\users\\asus\\appdata\\local\\programs\\python\\python311\\lib\\site-packages (2.2.2)\n",
      "Requirement already satisfied: numpy>=1.23.2 in c:\\users\\asus\\appdata\\local\\programs\\python\\python311\\lib\\site-packages (from pandas) (1.26.4)\n",
      "Requirement already satisfied: python-dateutil>=2.8.2 in c:\\users\\asus\\appdata\\local\\programs\\python\\python311\\lib\\site-packages (from pandas) (2.8.2)\n",
      "Requirement already satisfied: pytz>=2020.1 in c:\\users\\asus\\appdata\\local\\programs\\python\\python311\\lib\\site-packages (from pandas) (2024.1)\n",
      "Requirement already satisfied: tzdata>=2022.7 in c:\\users\\asus\\appdata\\local\\programs\\python\\python311\\lib\\site-packages (from pandas) (2023.4)\n",
      "Requirement already satisfied: six>=1.5 in c:\\users\\asus\\appdata\\local\\programs\\python\\python311\\lib\\site-packages (from python-dateutil>=2.8.2->pandas) (1.16.0)\n",
      "Note: you may need to restart the kernel to use updated packages.\n"
     ]
    }
   ],
   "source": [
    "%pip install pandas"
   ]
  },
  {
   "cell_type": "code",
   "execution_count": 21,
   "metadata": {},
   "outputs": [
    {
     "name": "stdout",
     "output_type": "stream",
     "text": [
      "150\n",
      "150\n",
      "[5.1, 3.5, 1.4, 0.2]\n"
     ]
    }
   ],
   "source": [
    "\n",
    "import csv\n",
    "import json\n",
    "\n",
    "inputs = []\n",
    "targets = []\n",
    "with open(\"iris.csv\", \"r\") as csvfile:\n",
    "    # Gunakan csv.DictReader\n",
    "    datareader = csv.DictReader(csvfile)\n",
    "\n",
    "    # Tidak perlu next(datareader), DictReader sudah meng-handle header\n",
    "    for row in datareader:\n",
    "        # Sekarang row adalah dictionary, dan Anda bisa mengakses nilai menggunakan nama kolom\n",
    "        current = [\n",
    "            float(row[\"SepalLengthCm\"]),\n",
    "            float(row[\"SepalWidthCm\"]),\n",
    "            float(row[\"PetalLengthCm\"]),\n",
    "            float(row[\"PetalWidthCm\"])\n",
    "        ]\n",
    "        species = row[\"Species\"]\n",
    "        if(species == \"Iris-setosa\"):\n",
    "            target = [1,0,0]\n",
    "        elif(species == \"Iris-versicolor\"):\n",
    "            target = [0,1,0]\n",
    "        elif(species == \"Iris-virginica\"):\n",
    "            target = [0,0,1]\n",
    "        inputs.append(current)\n",
    "        targets.append(target)\n",
    "print(len(targets))\n",
    "print(len(inputs))\n",
    "print(inputs[0])"
   ]
  },
  {
   "cell_type": "code",
   "execution_count": 22,
   "metadata": {},
   "outputs": [],
   "source": [
    "data = {\n",
    "    \"case\": {\n",
    "        \"model\": {\n",
    "            \"input_size\": 4,\n",
    "            \"layers\": [\n",
    "                {\n",
    "                    \"number_of_neurons\": 3,\n",
    "                    \"activation_function\": \"linear\"\n",
    "                }\n",
    "            ]\n",
    "        },\n",
    "        \"input\": inputs,\n",
    "        \"initial_weights\": [\n",
    "            [\n",
    "                [0.1, 0.3, 0.2],\n",
    "                [0.4, 0.2, -0.7],\n",
    "                [0.1, -0.8, 0.5],\n",
    "                [0.1, 0.3, 0.2],\n",
    "                [0.4, 0.2, -0.7]\n",
    "            ]\n",
    "        ],\n",
    "        \"target\": targets,\n",
    "        \"learning_parameters\": {\n",
    "            \"learning_rate\": 0.001,\n",
    "            \"batch_size\": 2,\n",
    "            \"max_iteration\": 1,\n",
    "            \"error_threshold\": 0.0\n",
    "        }\n",
    "    },\n",
    "    \"expect\": {\n",
    "        \"stopped_by\": \"max_iteration\",\n",
    "        \"final_weights\": [\n",
    "            [\n",
    "                [0.1008, 0.3006, 0.1991],\n",
    "                [0.402, 0.201, -0.7019],\n",
    "                [0.101, -0.799, 0.4987]\n",
    "            ]\n",
    "        ]\n",
    "    }\n",
    "}\n",
    "with open('model_data.json', 'w') as json_file:\n",
    "    json.dump(data, json_file, indent=4)"
   ]
  },
  {
   "cell_type": "code",
   "execution_count": null,
   "metadata": {},
   "outputs": [],
   "source": [
    "for i in range(len(model.layers)):\n",
    "    if i == 0:\n",
    "        mlp.add(Dense(all_num_neurons[i], activation=all_activation_function[i], input_shape=(input_size,),\n",
    "                      kernel_initializer=lambda shape, dtype:init_weight(shape, i), bias_initializer=lambda shape, dtype:init_bias(shape,i)))\n",
    "    else:\n",
    "        mlp.add(Dense(all_num_neurons[i], activation=all_activation_function[i],\n",
    "                      kernel_initializer=lambda shape, dtype:init_weight(shape,i), bias_initializer=lambda shape, dtype:init_bias(shape,i)))\n",
    "        \n",
    "def init_weight(shape, idx, dtype=None):\n",
    "    return model.weight_shape[idx][1:]\n",
    "\n",
    "def init_bias(shape, idx, dtype=None):\n",
    "    return model.weight_shape[idx][0]"
   ]
  }
 ],
 "metadata": {
  "kernelspec": {
   "display_name": "Python 3",
   "language": "python",
   "name": "python3"
  },
  "language_info": {
   "codemirror_mode": {
    "name": "ipython",
    "version": 3
   },
   "file_extension": ".py",
   "mimetype": "text/x-python",
   "name": "python",
   "nbconvert_exporter": "python",
   "pygments_lexer": "ipython3",
   "version": "3.11.2"
  }
 },
 "nbformat": 4,
 "nbformat_minor": 2
}
